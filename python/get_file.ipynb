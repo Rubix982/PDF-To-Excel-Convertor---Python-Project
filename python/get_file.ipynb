{
 "nbformat": 4,
 "nbformat_minor": 2,
 "metadata": {
  "language_info": {
   "name": "python",
   "codemirror_mode": {
    "name": "ipython",
    "version": 3
   },
   "version": "3.8.1-final"
  },
  "orig_nbformat": 2,
  "file_extension": ".py",
  "mimetype": "text/x-python",
  "name": "python",
  "npconvert_exporter": "python",
  "pygments_lexer": "ipython3",
  "version": 3,
  "kernelspec": {
   "name": "python38164bitpdftoexcelconda0624b68b0b5246fc9ecb07358824c335",
   "display_name": "Python 3.8.1 64-bit ('Pdf_to_excel': conda)"
  }
 },
 "cells": [
  {
   "cell_type": "code",
   "execution_count": 5,
   "metadata": {},
   "outputs": [],
   "source": [
    "from pdfminer.pdfparser import PDFParser, PDFDocument \n",
    "from pdfminer.pdfinterp import PDFResourceManager, PDFPageInterpreter\n",
    "from pdfminer.converter import PDFPageAggregator\n",
    "from pdfminer.layout import LAParams, LTTextBox, LTTextLine\n"
   ]
  },
  {
   "cell_type": "code",
   "execution_count": null,
   "metadata": {},
   "outputs": [],
   "source": []
  },
  {
   "cell_type": "code",
   "execution_count": 14,
   "metadata": {},
   "outputs": [
    {
     "name": "stderr",
     "output_type": "stream",
     "text": "WARNING:pdfminer.layout:Too many boxes (159) to group, skipping.\nWARNING:pdfminer.layout:Too many boxes (128) to group, skipping.\nWARNING:pdfminer.layout:Too many boxes (116) to group, skipping.\nWARNING:pdfminer.layout:Too many boxes (102) to group, skipping.\nWARNING:pdfminer.layout:Too many boxes (111) to group, skipping.\nWARNING:pdfminer.layout:Too many boxes (291) to group, skipping.\nWARNING:pdfminer.layout:Too many boxes (284) to group, skipping.\nWARNING:pdfminer.layout:Too many boxes (291) to group, skipping.\nWARNING:pdfminer.layout:Too many boxes (269) to group, skipping.\nWARNING:pdfminer.layout:Too many boxes (180) to group, skipping.\nWARNING:pdfminer.layout:Too many boxes (301) to group, skipping.\nWARNING:pdfminer.layout:Too many boxes (199) to group, skipping.\nWARNING:pdfminer.layout:Too many boxes (203) to group, skipping.\nWARNING:pdfminer.layout:Too many boxes (107) to group, skipping.\nWARNING:pdfminer.layout:Too many boxes (148) to group, skipping.\nWARNING:pdfminer.layout:Too many boxes (213) to group, skipping.\nWARNING:pdfminer.layout:Too many boxes (255) to group, skipping.\nWARNING:pdfminer.layout:Too many boxes (284) to group, skipping.\nWARNING:pdfminer.layout:Too many boxes (290) to group, skipping.\nWARNING:pdfminer.layout:Too many boxes (275) to group, skipping.\nWARNING:pdfminer.layout:Too many boxes (294) to group, skipping.\nWARNING:pdfminer.layout:Too many boxes (294) to group, skipping.\nWARNING:pdfminer.layout:Too many boxes (287) to group, skipping.\nWARNING:pdfminer.layout:Too many boxes (286) to group, skipping.\nWARNING:pdfminer.layout:Too many boxes (275) to group, skipping.\nWARNING:pdfminer.layout:Too many boxes (116) to group, skipping.\nWARNING:pdfminer.layout:Too many boxes (245) to group, skipping.\nWARNING:pdfminer.layout:Too many boxes (127) to group, skipping.\nWARNING:pdfminer.layout:Too many boxes (107) to group, skipping.\nWARNING:pdfminer.layout:Too many boxes (246) to group, skipping.\nWARNING:pdfminer.layout:Too many boxes (260) to group, skipping.\nWARNING:pdfminer.layout:Too many boxes (102) to group, skipping.\nWARNING:pdfminer.layout:Too many boxes (179) to group, skipping.\nWARNING:pdfminer.layout:Too many boxes (308) to group, skipping.\nWARNING:pdfminer.layout:Too many boxes (268) to group, skipping.\nWARNING:pdfminer.layout:Too many boxes (110) to group, skipping.\nWARNING:pdfminer.layout:Too many boxes (120) to group, skipping.\nWARNING:pdfminer.layout:Too many boxes (124) to group, skipping.\nWARNING:pdfminer.layout:Too many boxes (122) to group, skipping.\nWARNING:pdfminer.layout:Too many boxes (135) to group, skipping.\nWARNING:pdfminer.layout:Too many boxes (283) to group, skipping.\nWARNING:pdfminer.layout:Too many boxes (281) to group, skipping.\nWARNING:pdfminer.layout:Too many boxes (272) to group, skipping.\nWARNING:pdfminer.layout:Too many boxes (264) to group, skipping.\nWARNING:pdfminer.layout:Too many boxes (155) to group, skipping.\nWARNING:pdfminer.layout:Too many boxes (102) to group, skipping.\nWARNING:pdfminer.layout:Too many boxes (286) to group, skipping.\nWARNING:pdfminer.layout:Too many boxes (295) to group, skipping.\nWARNING:pdfminer.layout:Too many boxes (249) to group, skipping.\nWARNING:pdfminer.layout:Too many boxes (282) to group, skipping.\nWARNING:pdfminer.layout:Too many boxes (273) to group, skipping.\nWARNING:pdfminer.layout:Too many boxes (292) to group, skipping.\nWARNING:pdfminer.layout:Too many boxes (297) to group, skipping.\nWARNING:pdfminer.layout:Too many boxes (294) to group, skipping.\nWARNING:pdfminer.layout:Too many boxes (121) to group, skipping.\nWARNING:pdfminer.layout:Too many boxes (128) to group, skipping.\nWARNING:pdfminer.layout:Too many boxes (206) to group, skipping.\nWARNING:pdfminer.layout:Too many boxes (298) to group, skipping.\nWARNING:pdfminer.layout:Too many boxes (248) to group, skipping.\nWARNING:pdfminer.layout:Too many boxes (284) to group, skipping.\nWARNING:pdfminer.layout:Too many boxes (273) to group, skipping.\nWARNING:pdfminer.layout:Too many boxes (292) to group, skipping.\nWARNING:pdfminer.layout:Too many boxes (117) to group, skipping.\nWARNING:pdfminer.layout:Too many boxes (217) to group, skipping.\nWARNING:pdfminer.layout:Too many boxes (185) to group, skipping.\nWARNING:pdfminer.layout:Too many boxes (296) to group, skipping.\nWARNING:pdfminer.layout:Too many boxes (168) to group, skipping.\n"
    }
   ],
   "source": [
    "file_content = open(\"../database/pdf/up40-dec19.pdf\", \"r\")\n",
    "\n",
    "parser = PDFParser(file_content)\n",
    "doc = PDFDocument()\n",
    "parser.set_document(doc)\n",
    "doc.set_parser(parser)\n",
    "doc.initialize('')\n",
    "rsrcmgr = PDFResourceManager()\n",
    "laparams = LAParams()\n",
    "laparams.char_margin = 1.0\n",
    "laparams.word_margin = 1.0\n",
    "device = PDFPageAggregator(rsrcmgr, laparams=laparams)\n",
    "interpreter = PDFPageInterpreter(rsrcmgr, device)\n",
    "\n",
    "counter = 0\n",
    "\n",
    "for page in doc.get_pages():\n",
    "    extracted_text = ''\n",
    "    interpreter.process_page(page)\n",
    "    layout = device.get_result()\n",
    "    \n",
    "    for lt_obj in layout:\n",
    "        if isinstance(lt_obj, LTTextBox) or isinstance(lt_obj, LTTextLine):\n",
    "            extracted_text += lt_obj.get_text()\n",
    "\n",
    "    filename = \"../database/text_data/page-\" + str(counter) + \".txt\"\n",
    "\n",
    "    with open(filename, \"w\") as file:\n",
    "        for character in extracted_text:\n",
    "            file.write(character)\n",
    "\n",
    "    counter += 1\n",
    "\n",
    "\n"
   ]
  }
 ]
}